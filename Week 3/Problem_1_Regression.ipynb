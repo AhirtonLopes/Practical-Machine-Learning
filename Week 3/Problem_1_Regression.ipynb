{
  "nbformat": 4,
  "nbformat_minor": 0,
  "metadata": {
    "colab": {
      "name": "Problem 1 - Regression.ipynb",
      "version": "0.3.2",
      "provenance": [],
      "include_colab_link": true
    },
    "kernelspec": {
      "name": "python3",
      "display_name": "Python 3"
    }
  },
  "cells": [
    {
      "cell_type": "markdown",
      "metadata": {
        "id": "view-in-github",
        "colab_type": "text"
      },
      "source": [
        "<a href=\"https://colab.research.google.com/github/oliverfoster27/Practical-Machine-Learning/blob/master/Week%203/Problem_1_Regression.ipynb\" target=\"_parent\"><img src=\"https://colab.research.google.com/assets/colab-badge.svg\" alt=\"Open In Colab\"/></a>"
      ]
    },
    {
      "metadata": {
        "id": "Ug7ePlvZmgH7",
        "colab_type": "code",
        "colab": {}
      },
      "cell_type": "code",
      "source": [
        "import pandas as pd\n",
        "import seaborn as sns"
      ],
      "execution_count": 0,
      "outputs": []
    },
    {
      "metadata": {
        "id": "9Z3BPjcOm7YV",
        "colab_type": "code",
        "colab": {
          "base_uri": "https://localhost:8080/",
          "height": 208
        },
        "outputId": "0b3e4ffd-017d-4666-d081-a7e53ee787ff"
      },
      "cell_type": "code",
      "source": [
        "!wget https://storage.googleapis.com/nicksdemobucket/wines.csv"
      ],
      "execution_count": 2,
      "outputs": [
        {
          "output_type": "stream",
          "text": [
            "--2019-03-21 23:35:26--  https://storage.googleapis.com/nicksdemobucket/wines.csv\n",
            "Resolving storage.googleapis.com (storage.googleapis.com)... 74.125.142.128, 2607:f8b0:400e:c09::80\n",
            "Connecting to storage.googleapis.com (storage.googleapis.com)|74.125.142.128|:443... connected.\n",
            "HTTP request sent, awaiting response... 200 OK\n",
            "Length: 10957 (11K) [application/octet-stream]\n",
            "Saving to: ‘wines.csv’\n",
            "\n",
            "\rwines.csv             0%[                    ]       0  --.-KB/s               \rwines.csv           100%[===================>]  10.70K  --.-KB/s    in 0s      \n",
            "\n",
            "2019-03-21 23:35:26 (61.9 MB/s) - ‘wines.csv’ saved [10957/10957]\n",
            "\n"
          ],
          "name": "stdout"
        }
      ]
    },
    {
      "metadata": {
        "id": "b0QNWUeTnAJ5",
        "colab_type": "code",
        "colab": {
          "base_uri": "https://localhost:8080/",
          "height": 239
        },
        "outputId": "a875d3aa-fca7-427a-8955-f08052929a38"
      },
      "cell_type": "code",
      "source": [
        "df = pd.read_csv('wines.csv')\n",
        "df.head()"
      ],
      "execution_count": 5,
      "outputs": [
        {
          "output_type": "execute_result",
          "data": {
            "text/html": [
              "<div>\n",
              "<style scoped>\n",
              "    .dataframe tbody tr th:only-of-type {\n",
              "        vertical-align: middle;\n",
              "    }\n",
              "\n",
              "    .dataframe tbody tr th {\n",
              "        vertical-align: top;\n",
              "    }\n",
              "\n",
              "    .dataframe thead th {\n",
              "        text-align: right;\n",
              "    }\n",
              "</style>\n",
              "<table border=\"1\" class=\"dataframe\">\n",
              "  <thead>\n",
              "    <tr style=\"text-align: right;\">\n",
              "      <th></th>\n",
              "      <th>Class</th>\n",
              "      <th>Alcohol</th>\n",
              "      <th>Malic_acid</th>\n",
              "      <th>Ash</th>\n",
              "      <th>Alcalinity_of_ash</th>\n",
              "      <th>Magnesium</th>\n",
              "      <th>Total_phenols</th>\n",
              "      <th>Flavanoids</th>\n",
              "      <th>Nonflavanoid_phenols</th>\n",
              "      <th>Proanthocyanins</th>\n",
              "      <th>Color_intensity</th>\n",
              "      <th>Hue</th>\n",
              "      <th>OD280-OD315_of_diluted_wines</th>\n",
              "      <th>Proline</th>\n",
              "    </tr>\n",
              "  </thead>\n",
              "  <tbody>\n",
              "    <tr>\n",
              "      <th>0</th>\n",
              "      <td>1</td>\n",
              "      <td>14.23</td>\n",
              "      <td>1.71</td>\n",
              "      <td>2.43</td>\n",
              "      <td>15.6</td>\n",
              "      <td>127</td>\n",
              "      <td>2.80</td>\n",
              "      <td>3.06</td>\n",
              "      <td>0.28</td>\n",
              "      <td>2.29</td>\n",
              "      <td>5.64</td>\n",
              "      <td>1.04</td>\n",
              "      <td>3.92</td>\n",
              "      <td>1065</td>\n",
              "    </tr>\n",
              "    <tr>\n",
              "      <th>1</th>\n",
              "      <td>1</td>\n",
              "      <td>13.20</td>\n",
              "      <td>1.78</td>\n",
              "      <td>2.14</td>\n",
              "      <td>11.2</td>\n",
              "      <td>100</td>\n",
              "      <td>2.65</td>\n",
              "      <td>2.76</td>\n",
              "      <td>0.26</td>\n",
              "      <td>1.28</td>\n",
              "      <td>4.38</td>\n",
              "      <td>1.05</td>\n",
              "      <td>3.40</td>\n",
              "      <td>1050</td>\n",
              "    </tr>\n",
              "    <tr>\n",
              "      <th>2</th>\n",
              "      <td>1</td>\n",
              "      <td>13.16</td>\n",
              "      <td>2.36</td>\n",
              "      <td>2.67</td>\n",
              "      <td>18.6</td>\n",
              "      <td>101</td>\n",
              "      <td>2.80</td>\n",
              "      <td>3.24</td>\n",
              "      <td>0.30</td>\n",
              "      <td>2.81</td>\n",
              "      <td>5.68</td>\n",
              "      <td>1.03</td>\n",
              "      <td>3.17</td>\n",
              "      <td>1185</td>\n",
              "    </tr>\n",
              "    <tr>\n",
              "      <th>3</th>\n",
              "      <td>1</td>\n",
              "      <td>14.37</td>\n",
              "      <td>1.95</td>\n",
              "      <td>2.50</td>\n",
              "      <td>16.8</td>\n",
              "      <td>113</td>\n",
              "      <td>3.85</td>\n",
              "      <td>3.49</td>\n",
              "      <td>0.24</td>\n",
              "      <td>2.18</td>\n",
              "      <td>7.80</td>\n",
              "      <td>0.86</td>\n",
              "      <td>3.45</td>\n",
              "      <td>1480</td>\n",
              "    </tr>\n",
              "    <tr>\n",
              "      <th>4</th>\n",
              "      <td>1</td>\n",
              "      <td>13.24</td>\n",
              "      <td>2.59</td>\n",
              "      <td>2.87</td>\n",
              "      <td>21.0</td>\n",
              "      <td>118</td>\n",
              "      <td>2.80</td>\n",
              "      <td>2.69</td>\n",
              "      <td>0.39</td>\n",
              "      <td>1.82</td>\n",
              "      <td>4.32</td>\n",
              "      <td>1.04</td>\n",
              "      <td>2.93</td>\n",
              "      <td>735</td>\n",
              "    </tr>\n",
              "  </tbody>\n",
              "</table>\n",
              "</div>"
            ],
            "text/plain": [
              "   Class  Alcohol  Malic_acid   Ash  Alcalinity_of_ash  Magnesium  \\\n",
              "0      1    14.23        1.71  2.43               15.6        127   \n",
              "1      1    13.20        1.78  2.14               11.2        100   \n",
              "2      1    13.16        2.36  2.67               18.6        101   \n",
              "3      1    14.37        1.95  2.50               16.8        113   \n",
              "4      1    13.24        2.59  2.87               21.0        118   \n",
              "\n",
              "   Total_phenols  Flavanoids  Nonflavanoid_phenols  Proanthocyanins  \\\n",
              "0           2.80        3.06                  0.28             2.29   \n",
              "1           2.65        2.76                  0.26             1.28   \n",
              "2           2.80        3.24                  0.30             2.81   \n",
              "3           3.85        3.49                  0.24             2.18   \n",
              "4           2.80        2.69                  0.39             1.82   \n",
              "\n",
              "   Color_intensity   Hue  OD280-OD315_of_diluted_wines  Proline  \n",
              "0             5.64  1.04                          3.92     1065  \n",
              "1             4.38  1.05                          3.40     1050  \n",
              "2             5.68  1.03                          3.17     1185  \n",
              "3             7.80  0.86                          3.45     1480  \n",
              "4             4.32  1.04                          2.93      735  "
            ]
          },
          "metadata": {
            "tags": []
          },
          "execution_count": 5
        }
      ]
    },
    {
      "metadata": {
        "id": "9fzWVZYwniMo",
        "colab_type": "code",
        "colab": {
          "base_uri": "https://localhost:8080/",
          "height": 35
        },
        "outputId": "11d4b618-4de2-4ad7-aa79-e9aa119d11f2"
      },
      "cell_type": "code",
      "source": [
        "features = df.drop(['Malic_acid'], axis=1).values\n",
        "labels = df[['Malic_acid']].values\n",
        "print(features.shape, labels.shape)"
      ],
      "execution_count": 9,
      "outputs": [
        {
          "output_type": "stream",
          "text": [
            "(178, 13) (178, 1)\n"
          ],
          "name": "stdout"
        }
      ]
    },
    {
      "metadata": {
        "id": "LdgE-4ZenkL7",
        "colab_type": "code",
        "colab": {}
      },
      "cell_type": "code",
      "source": [
        "from tensorflow.keras.models import Sequential\n",
        "from tensorflow.keras.layers import Dense"
      ],
      "execution_count": 0,
      "outputs": []
    },
    {
      "metadata": {
        "id": "kMxTz3fxpKMh",
        "colab_type": "code",
        "colab": {
          "base_uri": "https://localhost:8080/",
          "height": 3521
        },
        "outputId": "067ba5eb-6dd8-47e5-d00e-5d6cef0ef396"
      },
      "cell_type": "code",
      "source": [
        "model = Sequential()\n",
        "model.add(Dense(16, activation='relu', input_shape=(13,)))\n",
        "model.add(Dense(32, activation='relu'))\n",
        "model.add(Dense(1))\n",
        "\n",
        "model.compile(optimizer='adam',\n",
        "             loss='mean_squared_error',\n",
        "             metrics=['mean_absolute_error'])\n",
        "\n",
        "h = model.fit(features, labels, epochs=100, validation_split=0.2)"
      ],
      "execution_count": 50,
      "outputs": [
        {
          "output_type": "stream",
          "text": [
            "Train on 142 samples, validate on 36 samples\n",
            "Epoch 1/100\n",
            "142/142 [==============================] - 0s 2ms/sample - loss: 6166.1856 - mean_absolute_error: 69.3383 - val_loss: 1982.9936 - val_mean_absolute_error: 43.1209\n",
            "Epoch 2/100\n",
            "142/142 [==============================] - 0s 109us/sample - loss: 3455.9632 - mean_absolute_error: 51.3605 - val_loss: 917.2640 - val_mean_absolute_error: 29.1357\n",
            "Epoch 3/100\n",
            "142/142 [==============================] - 0s 106us/sample - loss: 1669.3302 - mean_absolute_error: 34.6922 - val_loss: 306.4476 - val_mean_absolute_error: 16.5015\n",
            "Epoch 4/100\n",
            "142/142 [==============================] - 0s 100us/sample - loss: 601.7461 - mean_absolute_error: 19.8465 - val_loss: 47.5328 - val_mean_absolute_error: 5.8615\n",
            "Epoch 5/100\n",
            "142/142 [==============================] - 0s 86us/sample - loss: 143.3863 - mean_absolute_error: 8.9715 - val_loss: 13.1933 - val_mean_absolute_error: 3.0246\n",
            "Epoch 6/100\n",
            "142/142 [==============================] - 0s 84us/sample - loss: 31.7745 - mean_absolute_error: 4.8633 - val_loss: 69.4748 - val_mean_absolute_error: 8.1823\n",
            "Epoch 7/100\n",
            "142/142 [==============================] - 0s 96us/sample - loss: 59.6780 - mean_absolute_error: 7.1491 - val_loss: 122.9254 - val_mean_absolute_error: 11.0015\n",
            "Epoch 8/100\n",
            "142/142 [==============================] - 0s 89us/sample - loss: 97.4044 - mean_absolute_error: 9.7058 - val_loss: 136.4948 - val_mean_absolute_error: 11.6040\n",
            "Epoch 9/100\n",
            "142/142 [==============================] - 0s 84us/sample - loss: 97.0448 - mean_absolute_error: 9.6877 - val_loss: 114.4825 - val_mean_absolute_error: 10.6097\n",
            "Epoch 10/100\n",
            "142/142 [==============================] - 0s 88us/sample - loss: 70.5882 - mean_absolute_error: 8.0754 - val_loss: 79.2857 - val_mean_absolute_error: 8.7781\n",
            "Epoch 11/100\n",
            "142/142 [==============================] - 0s 86us/sample - loss: 42.5298 - mean_absolute_error: 5.8579 - val_loss: 49.2617 - val_mean_absolute_error: 6.8152\n",
            "Epoch 12/100\n",
            "142/142 [==============================] - 0s 102us/sample - loss: 26.8384 - mean_absolute_error: 4.3119 - val_loss: 30.2844 - val_mean_absolute_error: 5.1764\n",
            "Epoch 13/100\n",
            "142/142 [==============================] - 0s 85us/sample - loss: 23.2146 - mean_absolute_error: 4.1269 - val_loss: 20.5962 - val_mean_absolute_error: 4.0835\n",
            "Epoch 14/100\n",
            "142/142 [==============================] - 0s 93us/sample - loss: 24.0082 - mean_absolute_error: 4.2144 - val_loss: 16.8740 - val_mean_absolute_error: 3.6007\n",
            "Epoch 15/100\n",
            "142/142 [==============================] - 0s 98us/sample - loss: 24.9523 - mean_absolute_error: 4.2710 - val_loss: 16.3905 - val_mean_absolute_error: 3.5405\n",
            "Epoch 16/100\n",
            "142/142 [==============================] - 0s 105us/sample - loss: 23.9663 - mean_absolute_error: 4.1971 - val_loss: 17.9153 - val_mean_absolute_error: 3.7548\n",
            "Epoch 17/100\n",
            "142/142 [==============================] - 0s 84us/sample - loss: 22.6317 - mean_absolute_error: 4.0962 - val_loss: 21.5612 - val_mean_absolute_error: 4.2196\n",
            "Epoch 18/100\n",
            "142/142 [==============================] - 0s 108us/sample - loss: 20.9609 - mean_absolute_error: 3.9476 - val_loss: 24.5336 - val_mean_absolute_error: 4.5835\n",
            "Epoch 19/100\n",
            "142/142 [==============================] - 0s 96us/sample - loss: 20.6615 - mean_absolute_error: 3.9059 - val_loss: 26.9389 - val_mean_absolute_error: 4.8567\n",
            "Epoch 20/100\n",
            "142/142 [==============================] - 0s 103us/sample - loss: 20.4080 - mean_absolute_error: 3.8562 - val_loss: 27.0484 - val_mean_absolute_error: 4.8731\n",
            "Epoch 21/100\n",
            "142/142 [==============================] - 0s 101us/sample - loss: 20.0489 - mean_absolute_error: 3.8184 - val_loss: 26.1161 - val_mean_absolute_error: 4.7764\n",
            "Epoch 22/100\n",
            "142/142 [==============================] - 0s 103us/sample - loss: 19.5546 - mean_absolute_error: 3.7776 - val_loss: 24.5311 - val_mean_absolute_error: 4.6037\n",
            "Epoch 23/100\n",
            "142/142 [==============================] - 0s 88us/sample - loss: 19.1046 - mean_absolute_error: 3.7543 - val_loss: 22.5863 - val_mean_absolute_error: 4.3806\n",
            "Epoch 24/100\n",
            "142/142 [==============================] - 0s 222us/sample - loss: 18.7270 - mean_absolute_error: 3.7242 - val_loss: 21.1068 - val_mean_absolute_error: 4.2038\n",
            "Epoch 25/100\n",
            "142/142 [==============================] - 0s 89us/sample - loss: 18.3500 - mean_absolute_error: 3.6938 - val_loss: 20.6137 - val_mean_absolute_error: 4.1469\n",
            "Epoch 26/100\n",
            "142/142 [==============================] - 0s 87us/sample - loss: 18.0088 - mean_absolute_error: 3.6597 - val_loss: 20.4078 - val_mean_absolute_error: 4.1264\n",
            "Epoch 27/100\n",
            "142/142 [==============================] - 0s 90us/sample - loss: 17.6241 - mean_absolute_error: 3.6165 - val_loss: 20.5455 - val_mean_absolute_error: 4.1496\n",
            "Epoch 28/100\n",
            "142/142 [==============================] - 0s 109us/sample - loss: 17.2582 - mean_absolute_error: 3.5751 - val_loss: 20.6333 - val_mean_absolute_error: 4.1662\n",
            "Epoch 29/100\n",
            "142/142 [==============================] - 0s 109us/sample - loss: 16.9250 - mean_absolute_error: 3.5378 - val_loss: 20.6151 - val_mean_absolute_error: 4.1693\n",
            "Epoch 30/100\n",
            "142/142 [==============================] - 0s 108us/sample - loss: 16.5527 - mean_absolute_error: 3.4969 - val_loss: 19.7944 - val_mean_absolute_error: 4.0696\n",
            "Epoch 31/100\n",
            "142/142 [==============================] - 0s 83us/sample - loss: 16.2188 - mean_absolute_error: 3.4611 - val_loss: 19.5718 - val_mean_absolute_error: 4.0461\n",
            "Epoch 32/100\n",
            "142/142 [==============================] - 0s 101us/sample - loss: 15.8588 - mean_absolute_error: 3.4230 - val_loss: 19.1900 - val_mean_absolute_error: 4.0014\n",
            "Epoch 33/100\n",
            "142/142 [==============================] - 0s 112us/sample - loss: 15.5609 - mean_absolute_error: 3.3878 - val_loss: 19.0646 - val_mean_absolute_error: 3.9903\n",
            "Epoch 34/100\n",
            "142/142 [==============================] - 0s 122us/sample - loss: 15.2098 - mean_absolute_error: 3.3474 - val_loss: 18.7327 - val_mean_absolute_error: 3.9516\n",
            "Epoch 35/100\n",
            "142/142 [==============================] - 0s 96us/sample - loss: 14.8853 - mean_absolute_error: 3.3075 - val_loss: 18.5888 - val_mean_absolute_error: 3.9376\n",
            "Epoch 36/100\n",
            "142/142 [==============================] - 0s 114us/sample - loss: 14.5320 - mean_absolute_error: 3.2694 - val_loss: 17.9706 - val_mean_absolute_error: 3.8591\n",
            "Epoch 37/100\n",
            "142/142 [==============================] - 0s 100us/sample - loss: 14.2241 - mean_absolute_error: 3.2344 - val_loss: 17.3063 - val_mean_absolute_error: 3.7745\n",
            "Epoch 38/100\n",
            "142/142 [==============================] - 0s 86us/sample - loss: 13.8809 - mean_absolute_error: 3.1982 - val_loss: 16.6224 - val_mean_absolute_error: 3.6880\n",
            "Epoch 39/100\n",
            "142/142 [==============================] - 0s 97us/sample - loss: 13.6516 - mean_absolute_error: 3.1741 - val_loss: 15.6157 - val_mean_absolute_error: 3.5550\n",
            "Epoch 40/100\n",
            "142/142 [==============================] - 0s 102us/sample - loss: 13.3488 - mean_absolute_error: 3.1388 - val_loss: 15.8094 - val_mean_absolute_error: 3.5852\n",
            "Epoch 41/100\n",
            "142/142 [==============================] - 0s 94us/sample - loss: 12.9855 - mean_absolute_error: 3.0930 - val_loss: 15.7114 - val_mean_absolute_error: 3.5750\n",
            "Epoch 42/100\n",
            "142/142 [==============================] - 0s 97us/sample - loss: 12.7051 - mean_absolute_error: 3.0528 - val_loss: 16.2279 - val_mean_absolute_error: 3.6480\n",
            "Epoch 43/100\n",
            "142/142 [==============================] - 0s 107us/sample - loss: 12.4230 - mean_absolute_error: 3.0075 - val_loss: 16.0903 - val_mean_absolute_error: 3.6323\n",
            "Epoch 44/100\n",
            "142/142 [==============================] - 0s 91us/sample - loss: 12.1429 - mean_absolute_error: 2.9704 - val_loss: 15.4905 - val_mean_absolute_error: 3.5535\n",
            "Epoch 45/100\n",
            "142/142 [==============================] - 0s 103us/sample - loss: 11.8633 - mean_absolute_error: 2.9402 - val_loss: 14.7088 - val_mean_absolute_error: 3.4468\n",
            "Epoch 46/100\n",
            "142/142 [==============================] - 0s 89us/sample - loss: 11.5991 - mean_absolute_error: 2.9095 - val_loss: 14.2330 - val_mean_absolute_error: 3.3812\n",
            "Epoch 47/100\n",
            "142/142 [==============================] - 0s 102us/sample - loss: 11.3220 - mean_absolute_error: 2.8737 - val_loss: 14.1841 - val_mean_absolute_error: 3.3768\n",
            "Epoch 48/100\n",
            "142/142 [==============================] - 0s 101us/sample - loss: 11.0730 - mean_absolute_error: 2.8368 - val_loss: 13.8964 - val_mean_absolute_error: 3.3374\n",
            "Epoch 49/100\n",
            "142/142 [==============================] - 0s 108us/sample - loss: 10.8657 - mean_absolute_error: 2.8127 - val_loss: 13.2837 - val_mean_absolute_error: 3.2485\n",
            "Epoch 50/100\n",
            "142/142 [==============================] - 0s 105us/sample - loss: 10.5709 - mean_absolute_error: 2.7697 - val_loss: 13.4651 - val_mean_absolute_error: 3.2784\n",
            "Epoch 51/100\n",
            "142/142 [==============================] - 0s 114us/sample - loss: 10.3291 - mean_absolute_error: 2.7282 - val_loss: 13.4144 - val_mean_absolute_error: 3.2731\n",
            "Epoch 52/100\n",
            "142/142 [==============================] - 0s 107us/sample - loss: 10.0936 - mean_absolute_error: 2.6906 - val_loss: 13.3152 - val_mean_absolute_error: 3.2603\n",
            "Epoch 53/100\n",
            "142/142 [==============================] - 0s 108us/sample - loss: 9.8843 - mean_absolute_error: 2.6577 - val_loss: 12.9579 - val_mean_absolute_error: 3.2082\n",
            "Epoch 54/100\n",
            "142/142 [==============================] - 0s 93us/sample - loss: 9.6843 - mean_absolute_error: 2.6379 - val_loss: 12.1485 - val_mean_absolute_error: 3.0839\n",
            "Epoch 55/100\n",
            "142/142 [==============================] - 0s 85us/sample - loss: 9.4167 - mean_absolute_error: 2.6030 - val_loss: 12.0295 - val_mean_absolute_error: 3.0669\n",
            "Epoch 56/100\n",
            "142/142 [==============================] - 0s 93us/sample - loss: 9.2125 - mean_absolute_error: 2.5705 - val_loss: 11.8306 - val_mean_absolute_error: 3.0368\n",
            "Epoch 57/100\n",
            "142/142 [==============================] - 0s 106us/sample - loss: 8.9895 - mean_absolute_error: 2.5339 - val_loss: 11.7937 - val_mean_absolute_error: 3.0327\n",
            "Epoch 58/100\n",
            "142/142 [==============================] - 0s 93us/sample - loss: 8.7991 - mean_absolute_error: 2.4985 - val_loss: 11.6227 - val_mean_absolute_error: 3.0066\n",
            "Epoch 59/100\n",
            "142/142 [==============================] - 0s 103us/sample - loss: 8.5982 - mean_absolute_error: 2.4692 - val_loss: 11.0074 - val_mean_absolute_error: 2.9089\n",
            "Epoch 60/100\n",
            "142/142 [==============================] - 0s 100us/sample - loss: 8.3928 - mean_absolute_error: 2.4424 - val_loss: 10.6119 - val_mean_absolute_error: 2.8464\n",
            "Epoch 61/100\n",
            "142/142 [==============================] - 0s 121us/sample - loss: 8.2252 - mean_absolute_error: 2.4190 - val_loss: 10.1890 - val_mean_absolute_error: 2.7776\n",
            "Epoch 62/100\n",
            "142/142 [==============================] - 0s 99us/sample - loss: 8.0375 - mean_absolute_error: 2.3897 - val_loss: 9.9665 - val_mean_absolute_error: 2.7413\n",
            "Epoch 63/100\n",
            "142/142 [==============================] - 0s 87us/sample - loss: 7.8678 - mean_absolute_error: 2.3619 - val_loss: 9.6881 - val_mean_absolute_error: 2.6945\n",
            "Epoch 64/100\n",
            "142/142 [==============================] - 0s 105us/sample - loss: 7.7100 - mean_absolute_error: 2.3292 - val_loss: 9.9580 - val_mean_absolute_error: 2.7423\n",
            "Epoch 65/100\n",
            "142/142 [==============================] - 0s 86us/sample - loss: 7.4960 - mean_absolute_error: 2.2886 - val_loss: 9.7115 - val_mean_absolute_error: 2.7010\n",
            "Epoch 66/100\n",
            "142/142 [==============================] - 0s 94us/sample - loss: 7.3328 - mean_absolute_error: 2.2579 - val_loss: 9.7285 - val_mean_absolute_error: 2.7049\n",
            "Epoch 67/100\n",
            "142/142 [==============================] - 0s 95us/sample - loss: 7.1746 - mean_absolute_error: 2.2252 - val_loss: 9.4361 - val_mean_absolute_error: 2.6547\n",
            "Epoch 68/100\n",
            "142/142 [==============================] - 0s 95us/sample - loss: 7.0307 - mean_absolute_error: 2.2050 - val_loss: 9.1647 - val_mean_absolute_error: 2.6071\n",
            "Epoch 69/100\n",
            "142/142 [==============================] - 0s 94us/sample - loss: 6.8551 - mean_absolute_error: 2.1639 - val_loss: 9.4080 - val_mean_absolute_error: 2.6511\n",
            "Epoch 70/100\n",
            "142/142 [==============================] - 0s 102us/sample - loss: 6.7128 - mean_absolute_error: 2.1258 - val_loss: 9.4983 - val_mean_absolute_error: 2.6673\n",
            "Epoch 71/100\n",
            "142/142 [==============================] - 0s 93us/sample - loss: 6.5926 - mean_absolute_error: 2.0927 - val_loss: 9.3406 - val_mean_absolute_error: 2.6400\n",
            "Epoch 72/100\n",
            "142/142 [==============================] - 0s 105us/sample - loss: 6.4447 - mean_absolute_error: 2.0690 - val_loss: 8.8970 - val_mean_absolute_error: 2.5606\n",
            "Epoch 73/100\n",
            "142/142 [==============================] - 0s 91us/sample - loss: 6.3096 - mean_absolute_error: 2.0597 - val_loss: 8.3399 - val_mean_absolute_error: 2.4563\n",
            "Epoch 74/100\n",
            "142/142 [==============================] - 0s 90us/sample - loss: 6.1769 - mean_absolute_error: 2.0439 - val_loss: 8.1341 - val_mean_absolute_error: 2.4167\n",
            "Epoch 75/100\n",
            "142/142 [==============================] - 0s 88us/sample - loss: 6.0556 - mean_absolute_error: 2.0197 - val_loss: 8.1444 - val_mean_absolute_error: 2.4190\n",
            "Epoch 76/100\n",
            "142/142 [==============================] - 0s 122us/sample - loss: 5.9359 - mean_absolute_error: 1.9901 - val_loss: 8.0743 - val_mean_absolute_error: 2.4054\n",
            "Epoch 77/100\n",
            "142/142 [==============================] - 0s 81us/sample - loss: 5.8265 - mean_absolute_error: 1.9542 - val_loss: 8.2309 - val_mean_absolute_error: 2.4359\n",
            "Epoch 78/100\n",
            "142/142 [==============================] - 0s 87us/sample - loss: 5.7071 - mean_absolute_error: 1.9247 - val_loss: 7.9636 - val_mean_absolute_error: 2.3835\n",
            "Epoch 79/100\n",
            "142/142 [==============================] - 0s 101us/sample - loss: 5.5912 - mean_absolute_error: 1.9080 - val_loss: 7.6617 - val_mean_absolute_error: 2.3226\n",
            "Epoch 80/100\n",
            "142/142 [==============================] - 0s 91us/sample - loss: 5.4874 - mean_absolute_error: 1.8976 - val_loss: 7.1929 - val_mean_absolute_error: 2.2240\n",
            "Epoch 81/100\n",
            "142/142 [==============================] - 0s 102us/sample - loss: 5.4044 - mean_absolute_error: 1.8921 - val_loss: 6.9239 - val_mean_absolute_error: 2.1649\n",
            "Epoch 82/100\n",
            "142/142 [==============================] - 0s 94us/sample - loss: 5.3235 - mean_absolute_error: 1.8766 - val_loss: 6.9217 - val_mean_absolute_error: 2.1643\n",
            "Epoch 83/100\n",
            "142/142 [==============================] - 0s 99us/sample - loss: 5.2000 - mean_absolute_error: 1.8383 - val_loss: 7.2069 - val_mean_absolute_error: 2.2264\n",
            "Epoch 84/100\n",
            "142/142 [==============================] - 0s 115us/sample - loss: 5.1006 - mean_absolute_error: 1.7962 - val_loss: 7.3276 - val_mean_absolute_error: 2.2516\n",
            "Epoch 85/100\n",
            "142/142 [==============================] - 0s 104us/sample - loss: 5.0312 - mean_absolute_error: 1.7682 - val_loss: 7.3324 - val_mean_absolute_error: 2.2520\n",
            "Epoch 86/100\n",
            "142/142 [==============================] - 0s 87us/sample - loss: 4.9505 - mean_absolute_error: 1.7459 - val_loss: 7.1285 - val_mean_absolute_error: 2.2080\n",
            "Epoch 87/100\n",
            "142/142 [==============================] - 0s 105us/sample - loss: 4.8680 - mean_absolute_error: 1.7366 - val_loss: 6.6730 - val_mean_absolute_error: 2.1063\n",
            "Epoch 88/100\n",
            "142/142 [==============================] - 0s 82us/sample - loss: 4.7745 - mean_absolute_error: 1.7272 - val_loss: 6.4499 - val_mean_absolute_error: 2.0603\n",
            "Epoch 89/100\n",
            "142/142 [==============================] - 0s 97us/sample - loss: 4.7058 - mean_absolute_error: 1.7169 - val_loss: 6.2191 - val_mean_absolute_error: 2.0122\n",
            "Epoch 90/100\n",
            "142/142 [==============================] - 0s 126us/sample - loss: 4.6532 - mean_absolute_error: 1.7085 - val_loss: 6.1786 - val_mean_absolute_error: 2.0043\n",
            "Epoch 91/100\n",
            "142/142 [==============================] - 0s 88us/sample - loss: 4.5668 - mean_absolute_error: 1.6741 - val_loss: 6.4209 - val_mean_absolute_error: 2.0566\n",
            "Epoch 92/100\n",
            "142/142 [==============================] - 0s 103us/sample - loss: 4.4869 - mean_absolute_error: 1.6456 - val_loss: 6.3048 - val_mean_absolute_error: 2.0328\n",
            "Epoch 93/100\n",
            "142/142 [==============================] - 0s 91us/sample - loss: 4.4282 - mean_absolute_error: 1.6277 - val_loss: 6.2554 - val_mean_absolute_error: 2.0229\n",
            "Epoch 94/100\n",
            "142/142 [==============================] - 0s 110us/sample - loss: 4.3595 - mean_absolute_error: 1.6165 - val_loss: 5.9835 - val_mean_absolute_error: 1.9641\n",
            "Epoch 95/100\n",
            "142/142 [==============================] - 0s 102us/sample - loss: 4.2974 - mean_absolute_error: 1.6060 - val_loss: 5.8470 - val_mean_absolute_error: 1.9338\n",
            "Epoch 96/100\n",
            "142/142 [==============================] - 0s 105us/sample - loss: 4.2442 - mean_absolute_error: 1.5951 - val_loss: 5.7260 - val_mean_absolute_error: 1.9063\n",
            "Epoch 97/100\n",
            "142/142 [==============================] - 0s 104us/sample - loss: 4.1860 - mean_absolute_error: 1.5816 - val_loss: 5.6579 - val_mean_absolute_error: 1.8912\n",
            "Epoch 98/100\n",
            "142/142 [==============================] - 0s 103us/sample - loss: 4.1326 - mean_absolute_error: 1.5641 - val_loss: 5.8116 - val_mean_absolute_error: 1.9266\n",
            "Epoch 99/100\n",
            "142/142 [==============================] - 0s 104us/sample - loss: 4.0883 - mean_absolute_error: 1.5502 - val_loss: 5.6712 - val_mean_absolute_error: 1.8972\n",
            "Epoch 100/100\n",
            "142/142 [==============================] - 0s 88us/sample - loss: 4.0315 - mean_absolute_error: 1.5372 - val_loss: 5.5491 - val_mean_absolute_error: 1.8733\n"
          ],
          "name": "stdout"
        }
      ]
    },
    {
      "metadata": {
        "id": "onuZT1KmqxC5",
        "colab_type": "code",
        "colab": {
          "base_uri": "https://localhost:8080/",
          "height": 35
        },
        "outputId": "28ac70e5-374d-4e41-f086-5f4e9d018d09"
      },
      "cell_type": "code",
      "source": [
        "h.history.keys()"
      ],
      "execution_count": 51,
      "outputs": [
        {
          "output_type": "execute_result",
          "data": {
            "text/plain": [
              "dict_keys(['loss', 'mean_absolute_error', 'val_loss', 'val_mean_absolute_error'])"
            ]
          },
          "metadata": {
            "tags": []
          },
          "execution_count": 51
        }
      ]
    },
    {
      "metadata": {
        "id": "I0Gusk81rBYt",
        "colab_type": "code",
        "colab": {
          "base_uri": "https://localhost:8080/",
          "height": 365
        },
        "outputId": "572633ee-01d7-44a8-c265-6b6b3e403477"
      },
      "cell_type": "code",
      "source": [
        "import matplotlib.pyplot as plt\n",
        "plt.plot(h.history['loss'])\n",
        "plt.plot(h.history['val_loss'])"
      ],
      "execution_count": 52,
      "outputs": [
        {
          "output_type": "execute_result",
          "data": {
            "text/plain": [
              "[<matplotlib.lines.Line2D at 0x7f3a2c5c13c8>]"
            ]
          },
          "metadata": {
            "tags": []
          },
          "execution_count": 52
        },
        {
          "output_type": "display_data",
          "data": {
            "image/png": "[encoded data removed]",
            "text/plain": [
              "<Figure size 576x396 with 1 Axes>"
            ]
          },
          "metadata": {
            "tags": []
          }
        }
      ]
    },
    {
      "metadata": {
        "id": "hj5YRM4WrF8g",
        "colab_type": "code",
        "colab": {}
      },
      "cell_type": "code",
      "source": [
        "model.save('my_good_model.h5')"
      ],
      "execution_count": 0,
      "outputs": []
    },
    {
      "metadata": {
        "id": "4sOlrS3NsrWU",
        "colab_type": "code",
        "colab": {}
      },
      "cell_type": "code",
      "source": [
        "import tensorflow as tf\n",
        "loaded_model = tf.keras.models.load_model('my_good_model.h5')"
      ],
      "execution_count": 0,
      "outputs": []
    },
    {
      "metadata": {
        "id": "9cE2mNOAsxQm",
        "colab_type": "code",
        "colab": {
          "base_uri": "https://localhost:8080/",
          "height": 243
        },
        "outputId": "825d8d45-7c70-4e09-91bf-712cf0625b24"
      },
      "cell_type": "code",
      "source": [
        "loaded_model.summary()"
      ],
      "execution_count": 55,
      "outputs": [
        {
          "output_type": "stream",
          "text": [
            "_________________________________________________________________\n",
            "Layer (type)                 Output Shape              Param #   \n",
            "=================================================================\n",
            "dense_11 (Dense)             (None, 16)                224       \n",
            "_________________________________________________________________\n",
            "dense_12 (Dense)             (None, 32)                544       \n",
            "_________________________________________________________________\n",
            "dense_13 (Dense)             (None, 1)                 33        \n",
            "=================================================================\n",
            "Total params: 801\n",
            "Trainable params: 801\n",
            "Non-trainable params: 0\n",
            "_________________________________________________________________\n"
          ],
          "name": "stdout"
        }
      ]
    },
    {
      "metadata": {
        "id": "7QzxaiFssznB",
        "colab_type": "code",
        "colab": {}
      },
      "cell_type": "code",
      "source": [
        ""
      ],
      "execution_count": 0,
      "outputs": []
    }
  ]
}